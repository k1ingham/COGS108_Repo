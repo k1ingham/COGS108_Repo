{
  "nbformat": 4,
  "nbformat_minor": 0,
  "metadata": {
    "kernelspec": {
      "display_name": "Python 3",
      "language": "python",
      "name": "python3"
    },
    "language_info": {
      "codemirror_mode": {
        "name": "ipython",
        "version": 3
      },
      "file_extension": ".py",
      "mimetype": "text/x-python",
      "name": "python",
      "nbconvert_exporter": "python",
      "pygments_lexer": "ipython3",
      "version": "3.8.5"
    },
    "colab": {
      "name": "ProjectProposal_group059.ipynb",
      "provenance": [],
      "collapsed_sections": [],
      "toc_visible": true,
      "include_colab_link": true
    }
  },
  "cells": [
    {
      "cell_type": "markdown",
      "metadata": {
        "id": "view-in-github",
        "colab_type": "text"
      },
      "source": [
        "<a href=\"https://colab.research.google.com/github/k1ingham/COGS108_Repo/blob/main/ProjectProposal_group059.ipynb\" target=\"_parent\"><img src=\"https://colab.research.google.com/assets/colab-badge.svg\" alt=\"Open In Colab\"/></a>"
      ]
    },
    {
      "cell_type": "markdown",
      "metadata": {
        "id": "s0by1VJ8t54F"
      },
      "source": [
        "# COGS 108 - Final Project Proposal"
      ]
    },
    {
      "cell_type": "markdown",
      "metadata": {
        "id": "JmR2PmH_t54U"
      },
      "source": [
        "# Names\n",
        "\n",
        "- Dancheng Liu\n",
        "- Henry Pham-Tran\n",
        "- Jerry Waldorf\n",
        "- Katrina Ingham\n",
        "- Radu Manea"
      ]
    },
    {
      "cell_type": "markdown",
      "metadata": {
        "id": "LN4PNvQbt54X"
      },
      "source": [
        "# Research Question"
      ]
    },
    {
      "cell_type": "markdown",
      "metadata": {
        "id": "7iKmwrxmt54Y"
      },
      "source": [
        "We want to research on the relationship between COVID and psychology. Specifically, we want to research on the effects of COVID and its related consequences on people's mental health via analysis on datasets about suicide rates and diagnostic data related to mental health problems.\n",
        "\n",
        "\n"
      ]
    },
    {
      "cell_type": "markdown",
      "metadata": {
        "id": "EucZOT77t54a"
      },
      "source": [
        "## Background and Prior Work"
      ]
    },
    {
      "cell_type": "markdown",
      "metadata": {
        "id": "xrdA16wbt54b"
      },
      "source": [
        "*Fill in your background and prior work here. Be sure to specify which statements are from which references.* \n",
        "\n",
        "References (include links):\n",
        "- 1)\n",
        "- 2)"
      ]
    },
    {
      "cell_type": "markdown",
      "metadata": {
        "id": "NOaimWlzt54c"
      },
      "source": [
        "# Hypothesis\n"
      ]
    },
    {
      "cell_type": "markdown",
      "metadata": {
        "id": "OOrtFVslt54d"
      },
      "source": [
        "We think there will be an increase in the suicide rates and diagostic data after the COVID starts because people face more mental pressure in quarantine time."
      ]
    },
    {
      "cell_type": "markdown",
      "metadata": {
        "id": "U83MXFFHt54e"
      },
      "source": [
        "# Data"
      ]
    },
    {
      "cell_type": "markdown",
      "metadata": {
        "id": "q4d02Y2Kt54e"
      },
      "source": [
        "*Explain what the ideal dataset you would want to answer this question. (This should include: What variables? How many observations? Who/what/how would these data be collected? How would these data be stored/organized?)*\n",
        "\n",
        "Ideal dataset(s):\n",
        "Chronological "
      ]
    },
    {
      "cell_type": "markdown",
      "metadata": {
        "id": "vqsR3I0Ut54f"
      },
      "source": [
        "# Ethics & Privacy"
      ]
    },
    {
      "cell_type": "markdown",
      "metadata": {
        "id": "oGOXc3gDt54f"
      },
      "source": [
        "*Fill in your ethics & privacy discussion here*"
      ]
    },
    {
      "cell_type": "markdown",
      "metadata": {
        "id": "GxjERgj-t54g"
      },
      "source": [
        "# Team Expectations "
      ]
    },
    {
      "cell_type": "markdown",
      "metadata": {
        "id": "5hcLkSNut54g"
      },
      "source": [
        "* *Team Expectation 1*\n",
        "* *Team Expectation 2*\n",
        "* *Team Expecation 3*\n",
        "* ..."
      ]
    },
    {
      "cell_type": "markdown",
      "metadata": {
        "id": "IwageRmXt54h"
      },
      "source": [
        "# Project Timeline Proposal"
      ]
    },
    {
      "cell_type": "markdown",
      "metadata": {
        "id": "UBlgrXK2t54i"
      },
      "source": [
        "| Meeting Date  | Meeting Time| Completed Before Meeting  | Discuss at Meeting |\n",
        "|---|---|---|---|\n",
        "| 1/20  |  1 PM | Read & Think about COGS 108 expectations; brainstorm topics/questions  | Determine best form of communication; Discuss and decide on final project topic; discuss hypothesis; begin background research | \n",
        "| 1/26  |  10 AM |  Do background research on topic | Discuss ideal dataset(s) and ethics; draft project proposal | \n",
        "| 2/1  | 10 AM  | Edit, finalize, and submit proposal; Search for datasets  | Discuss Wrangling and possible analytical approaches; Assign group members to lead each specific part   |\n",
        "| 2/14  | 6 PM  | Import & Wrangle Data (Ant Man); EDA (Hulk) | Review/Edit wrangling/EDA; Discuss Analysis Plan   |\n",
        "| 2/23  | 12 PM  | Finalize wrangling/EDA; Begin Analysis (Iron Man; Thor) | Discuss/edit Analysis; Complete project check-in |\n",
        "| 3/13  | 12 PM  | Complete analysis; Draft results/conclusion/discussion (Wasp)| Discuss/edit full project |\n",
        "| 3/19  | Before 11:59 PM  | NA | Turn in Final Project & Group Project Surveys |"
      ]
    }
  ]
}